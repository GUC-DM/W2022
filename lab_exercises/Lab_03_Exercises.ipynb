{
 "cells": [
  {
   "cell_type": "markdown",
   "metadata": {},
   "source": [
    "# Lab 3 Exercises"
   ]
  },
  {
   "cell_type": "code",
   "execution_count": null,
   "metadata": {},
   "outputs": [],
   "source": [
    "import pandas as pd\n",
    "import numpy as np"
   ]
  },
  {
   "cell_type": "markdown",
   "metadata": {},
   "source": [
    "## Exercise 1"
   ]
  },
  {
   "cell_type": "markdown",
   "metadata": {},
   "source": [
    "Let's load lab 3's dataset again and try to handle the missing values this time."
   ]
  },
  {
   "cell_type": "code",
   "execution_count": null,
   "metadata": {},
   "outputs": [],
   "source": [
    "try:\n",
    "    world_df = pd.read_csv('../data/world_factbook.csv')\n",
    "except FileNotFoundError:\n",
    "    world_df = pd.read_csv('https://raw.githubusercontent.com/GUC-DM/W2022/main/data/world_factbook.csv')\n",
    "\n",
    "world_df.head()"
   ]
  },
  {
   "cell_type": "markdown",
   "metadata": {},
   "source": [
    "**How many missing values are there in each column?**"
   ]
  },
  {
   "cell_type": "code",
   "execution_count": null,
   "metadata": {},
   "outputs": [],
   "source": []
  },
  {
   "cell_type": "markdown",
   "metadata": {},
   "source": [
    "**Filter the data to the rows where there are missing values**\n",
    "\n",
    "_Hint: save the boolean mask to a variable for re-use in later prompts._"
   ]
  },
  {
   "cell_type": "code",
   "execution_count": null,
   "metadata": {},
   "outputs": [],
   "source": []
  },
  {
   "cell_type": "markdown",
   "metadata": {},
   "source": [
    "**Fill the missing values with the dataset's mean for each of the columns and assign the result to a new variable `world_df_na_mean`. How does the data filtered above look now?**"
   ]
  },
  {
   "cell_type": "code",
   "execution_count": null,
   "metadata": {},
   "outputs": [],
   "source": []
  },
  {
   "cell_type": "markdown",
   "metadata": {},
   "source": [
    "**Fill the missing values based on each region's median for each of the columns and assign the result to a new variable `world_df_na_median`. How does the data filtered earlier look now? What is the advantage of this approach?**\n",
    "\n",
    "_Hint: you'll need to use `groupby`_"
   ]
  },
  {
   "cell_type": "code",
   "execution_count": null,
   "metadata": {},
   "outputs": [],
   "source": []
  },
  {
   "cell_type": "markdown",
   "metadata": {},
   "source": [
    "## Exercise 2\n",
    "\n",
    "The gapminder dataset provides data about the population, life expectancy and GDP in different countries of the world from 1952 to 2007. Let's say one of the tasks you wanted to perform later on is to build a regression model to forecast GDP, population, life expectancy of future years, but to do that you needed to first transform the data provided."
   ]
  },
  {
   "cell_type": "code",
   "execution_count": null,
   "metadata": {
    "colab": {
     "base_uri": "https://localhost:8080/",
     "height": 490
    },
    "id": "w9juOmQWUCq2",
    "outputId": "e94797b0-484c-4fa2-cb8a-4e7dd35466bb"
   },
   "outputs": [],
   "source": [
    "try:\n",
    "    gapminder_df = pd.read_csv(\"../data/gapminder.csv\")\n",
    "except FileNotFoundError:\n",
    "    gapminder_df = pd.read_csv('https://raw.githubusercontent.com/GUC-DM/W2021/main/data/gapminder.csv')\n",
    "\n",
    "gapminder_df.head()"
   ]
  },
  {
   "cell_type": "markdown",
   "metadata": {},
   "source": [
    "**Transform the data provided. Expected columns in the final dataset:** `['Continent','Country','Year','Population Count','GDP Value', 'Life Expectancy']`\n",
    "\n",
    "_Hint: you'll need to `melt` each variable on its own and then merge the partial dataframes in the end (consider using `pd.concat` or `join`)._"
   ]
  }
 ],
 "metadata": {
  "kernelspec": {
   "display_name": "Python 3.8.10 64-bit (microsoft store)",
   "language": "python",
   "name": "python3"
  },
  "language_info": {
   "codemirror_mode": {
    "name": "ipython",
    "version": 3
   },
   "file_extension": ".py",
   "mimetype": "text/x-python",
   "name": "python",
   "nbconvert_exporter": "python",
   "pygments_lexer": "ipython3",
   "version": "3.8.10"
  },
  "vscode": {
   "interpreter": {
    "hash": "53838b41801d6340687d97fd6c2932a6cda47cc00efb016738355d36a9d1dd3a"
   }
  }
 },
 "nbformat": 4,
 "nbformat_minor": 4
}
